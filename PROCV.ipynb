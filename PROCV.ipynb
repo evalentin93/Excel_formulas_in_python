{
  "nbformat": 4,
  "nbformat_minor": 0,
  "metadata": {
    "colab": {
      "name": "PROCV.ipynb",
      "provenance": []
    },
    "kernelspec": {
      "name": "python3",
      "display_name": "Python 3"
    }
  },
  "cells": [
    {
      "cell_type": "code",
      "metadata": {
        "id": "57UL44xT1vV1",
        "colab_type": "code",
        "colab": {
          "base_uri": "https://localhost:8080/",
          "height": 34
        },
        "outputId": "a77e1471-c6eb-43e3-c162-ba2448eea8a7"
      },
      "source": [
        "import pandas as pd\n",
        "import numpy as np\n",
        "from openpyxl import load_workbook\n",
        "\n",
        "def intervalo_a_procurar(planilha, aba, intervalo1, intervalo2):\n",
        "  area_de_trabalho = load_workbook(filename=planilha, read_only=True)\n",
        "\n",
        "  planilha_de_trabalho = area_de_trabalho[aba]\n",
        "\n",
        "  linhas_dados = []\n",
        "  for linha in planilha_de_trabalho[intervalo1:intervalo2]:\n",
        "      colunas_dados = []\n",
        "      for celula in linha:\n",
        "          colunas_dados.append(celula.value)\n",
        "      linhas_dados.append(colunas_dados)\n",
        "\n",
        "  df = pd.DataFrame(linhas_dados)\n",
        "  return df\n",
        "\n",
        "def procv(planilha, aba, valor, intervalo1, intervalo2, coluna, identico):\n",
        "  intervalo = intervalo_a_procurar(planilha, aba, intervalo1, intervalo2)\n",
        "\n",
        "  if identico == True:\n",
        "    procura = np.where(df == valor)\n",
        "    coord = (x[0][0], x[1][0])\n",
        "    coord2 = (coord[0], coluna-1)\n",
        "    encontra = df[coord2[1]].values[coord2[0]]\n",
        "    return encontra\n",
        "  else:\n",
        "    pass\n",
        "\n",
        "planilha = 'procv.xlsx'\n",
        "aba = 'Sheet1'\n",
        "valor = 'Monte'\n",
        "intervalo1 = 'B2'\n",
        "intervalo2 = 'D7'\n",
        "coluna = 2\n",
        "match = True\n",
        "\n",
        "print(procv(planilha, aba, valor, intervalo1, intervalo2, coluna, match))"
      ],
      "execution_count": 34,
      "outputs": [
        {
          "output_type": "stream",
          "text": [
            "Vinicius\n"
          ],
          "name": "stdout"
        }
      ]
    },
    {
      "cell_type": "code",
      "metadata": {
        "id": "_cDdNzRO_7nR",
        "colab_type": "code",
        "colab": {}
      },
      "source": [
        ""
      ],
      "execution_count": null,
      "outputs": []
    }
  ]
}